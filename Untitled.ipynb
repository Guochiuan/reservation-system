{
 "cells": [
  {
   "cell_type": "code",
   "execution_count": 1,
   "id": "37eda769",
   "metadata": {},
   "outputs": [
    {
     "ename": "ModuleNotFoundError",
     "evalue": "No module named 'unqlite'",
     "output_type": "error",
     "traceback": [
      "\u001b[1;31m---------------------------------------------------------------------------\u001b[0m",
      "\u001b[1;31mModuleNotFoundError\u001b[0m                       Traceback (most recent call last)",
      "\u001b[1;32m~\\AppData\\Local\\Temp/ipykernel_15708/2270678171.py\u001b[0m in \u001b[0;36m<module>\u001b[1;34m\u001b[0m\n\u001b[1;32m----> 1\u001b[1;33m \u001b[1;32mfrom\u001b[0m \u001b[0munqlite\u001b[0m \u001b[1;32mimport\u001b[0m \u001b[0mUnQLite\u001b[0m\u001b[1;33m\u001b[0m\u001b[1;33m\u001b[0m\u001b[0m\n\u001b[0m\u001b[0;32m      2\u001b[0m \u001b[1;33m\u001b[0m\u001b[0m\n\u001b[0;32m      3\u001b[0m \u001b[0mdb\u001b[0m \u001b[1;33m=\u001b[0m \u001b[0mUnQLite\u001b[0m\u001b[1;33m(\u001b[0m\u001b[1;34m'sample.db'\u001b[0m\u001b[1;33m)\u001b[0m\u001b[1;33m\u001b[0m\u001b[1;33m\u001b[0m\u001b[0m\n\u001b[0;32m      4\u001b[0m \u001b[0mdata\u001b[0m \u001b[1;33m=\u001b[0m \u001b[0mdb\u001b[0m\u001b[1;33m.\u001b[0m\u001b[0mcollection\u001b[0m\u001b[1;33m(\u001b[0m\u001b[1;34m'data'\u001b[0m\u001b[1;33m)\u001b[0m\u001b[1;33m\u001b[0m\u001b[1;33m\u001b[0m\u001b[0m\n",
      "\u001b[1;31mModuleNotFoundError\u001b[0m: No module named 'unqlite'"
     ]
    }
   ],
   "source": [
    "from unqlite import UnQLite\n",
    "\n",
    "db = UnQLite('sample.db')\n",
    "data = db.collection('data')"
   ]
  },
  {
   "cell_type": "code",
   "execution_count": 3,
   "id": "674beb3b",
   "metadata": {},
   "outputs": [
    {
     "name": "stdout",
     "output_type": "stream",
     "text": [
      "Collecting unqlite\n",
      "  Using cached https://files.pythonhosted.org/packages/4b/1e/42fe2abfd262f3d636eb0ba34673c3c3af59a1c0397458d76ac4ba9d65a4/unqlite-0.9.2.tar.gz\n",
      "Requirement already satisfied: Cython in c:\\python27\\lib\\site-packages (from unqlite) (0.29.24)\n",
      "Installing collected packages: unqlite\n",
      "  Running setup.py install for unqlite: started\n",
      "    Running setup.py install for unqlite: finished with status 'error'\n"
     ]
    },
    {
     "name": "stderr",
     "output_type": "stream",
     "text": [
      "DEPRECATION: Python 2.7 will reach the end of its life on January 1st, 2020. Please upgrade your Python as Python 2.7 won't be maintained after that date. A future version of pip will drop support for Python 2.7. More details about Python 2 support in pip, can be found at https://pip.pypa.io/en/latest/development/release-process/#python-2-support\n",
      "    ERROR: Command errored out with exit status 1:\n",
      "     command: 'c:\\python27\\python.exe' -u -c 'import sys, setuptools, tokenize; sys.argv[0] = '\"'\"'c:\\\\users\\\\jackw\\\\appdata\\\\local\\\\temp\\\\pip-install-yah_fd\\\\unqlite\\\\setup.py'\"'\"'; __file__='\"'\"'c:\\\\users\\\\jackw\\\\appdata\\\\local\\\\temp\\\\pip-install-yah_fd\\\\unqlite\\\\setup.py'\"'\"';f=getattr(tokenize, '\"'\"'open'\"'\"', open)(__file__);code=f.read().replace('\"'\"'\\r\\n'\"'\"', '\"'\"'\\n'\"'\"');f.close();exec(compile(code, __file__, '\"'\"'exec'\"'\"'))' install --record 'c:\\users\\jackw\\appdata\\local\\temp\\pip-record-1obp5x\\install-record.txt' --single-version-externally-managed --compile\n",
      "         cwd: c:\\users\\jackw\\appdata\\local\\temp\\pip-install-yah_fd\\unqlite\\\n",
      "    Complete output (5 lines):\n",
      "    running install\n",
      "    running build\n",
      "    running build_ext\n",
      "    building 'unqlite' extension\n",
      "    error: Microsoft Visual C++ 9.0 is required. Get it from http://aka.ms/vcpython27\n",
      "    ----------------------------------------\n",
      "ERROR: Command errored out with exit status 1: 'c:\\python27\\python.exe' -u -c 'import sys, setuptools, tokenize; sys.argv[0] = '\"'\"'c:\\\\users\\\\jackw\\\\appdata\\\\local\\\\temp\\\\pip-install-yah_fd\\\\unqlite\\\\setup.py'\"'\"'; __file__='\"'\"'c:\\\\users\\\\jackw\\\\appdata\\\\local\\\\temp\\\\pip-install-yah_fd\\\\unqlite\\\\setup.py'\"'\"';f=getattr(tokenize, '\"'\"'open'\"'\"', open)(__file__);code=f.read().replace('\"'\"'\\r\\n'\"'\"', '\"'\"'\\n'\"'\"');f.close();exec(compile(code, __file__, '\"'\"'exec'\"'\"'))' install --record 'c:\\users\\jackw\\appdata\\local\\temp\\pip-record-1obp5x\\install-record.txt' --single-version-externally-managed --compile Check the logs for full command output.\n",
      "WARNING: You are using pip version 19.2.3, however version 20.3.4 is available.\n",
      "You should consider upgrading via the 'python -m pip install --upgrade pip' command.\n"
     ]
    }
   ],
   "source": [
    "!pip install unqlite"
   ]
  },
  {
   "cell_type": "code",
   "execution_count": 4,
   "id": "f01d20ab",
   "metadata": {},
   "outputs": [
    {
     "ename": "ModuleNotFoundError",
     "evalue": "No module named 'unqlite'",
     "output_type": "error",
     "traceback": [
      "\u001b[1;31m---------------------------------------------------------------------------\u001b[0m",
      "\u001b[1;31mModuleNotFoundError\u001b[0m                       Traceback (most recent call last)",
      "\u001b[1;32m~\\AppData\\Local\\Temp/ipykernel_15708/2270678171.py\u001b[0m in \u001b[0;36m<module>\u001b[1;34m\u001b[0m\n\u001b[1;32m----> 1\u001b[1;33m \u001b[1;32mfrom\u001b[0m \u001b[0munqlite\u001b[0m \u001b[1;32mimport\u001b[0m \u001b[0mUnQLite\u001b[0m\u001b[1;33m\u001b[0m\u001b[1;33m\u001b[0m\u001b[0m\n\u001b[0m\u001b[0;32m      2\u001b[0m \u001b[1;33m\u001b[0m\u001b[0m\n\u001b[0;32m      3\u001b[0m \u001b[0mdb\u001b[0m \u001b[1;33m=\u001b[0m \u001b[0mUnQLite\u001b[0m\u001b[1;33m(\u001b[0m\u001b[1;34m'sample.db'\u001b[0m\u001b[1;33m)\u001b[0m\u001b[1;33m\u001b[0m\u001b[1;33m\u001b[0m\u001b[0m\n\u001b[0;32m      4\u001b[0m \u001b[0mdata\u001b[0m \u001b[1;33m=\u001b[0m \u001b[0mdb\u001b[0m\u001b[1;33m.\u001b[0m\u001b[0mcollection\u001b[0m\u001b[1;33m(\u001b[0m\u001b[1;34m'data'\u001b[0m\u001b[1;33m)\u001b[0m\u001b[1;33m\u001b[0m\u001b[1;33m\u001b[0m\u001b[0m\n",
      "\u001b[1;31mModuleNotFoundError\u001b[0m: No module named 'unqlite'"
     ]
    }
   ],
   "source": [
    "from unqlite import UnQLite\n",
    "\n",
    "db = UnQLite('sample.db')\n",
    "data = db.collection('data')"
   ]
  },
  {
   "cell_type": "code",
   "execution_count": 5,
   "id": "11672cc7",
   "metadata": {},
   "outputs": [
    {
     "ename": "ModuleNotFoundError",
     "evalue": "No module named 'unqlite'",
     "output_type": "error",
     "traceback": [
      "\u001b[1;31m---------------------------------------------------------------------------\u001b[0m",
      "\u001b[1;31mModuleNotFoundError\u001b[0m                       Traceback (most recent call last)",
      "\u001b[1;32m~\\AppData\\Local\\Temp/ipykernel_15708/2270678171.py\u001b[0m in \u001b[0;36m<module>\u001b[1;34m\u001b[0m\n\u001b[1;32m----> 1\u001b[1;33m \u001b[1;32mfrom\u001b[0m \u001b[0munqlite\u001b[0m \u001b[1;32mimport\u001b[0m \u001b[0mUnQLite\u001b[0m\u001b[1;33m\u001b[0m\u001b[1;33m\u001b[0m\u001b[0m\n\u001b[0m\u001b[0;32m      2\u001b[0m \u001b[1;33m\u001b[0m\u001b[0m\n\u001b[0;32m      3\u001b[0m \u001b[0mdb\u001b[0m \u001b[1;33m=\u001b[0m \u001b[0mUnQLite\u001b[0m\u001b[1;33m(\u001b[0m\u001b[1;34m'sample.db'\u001b[0m\u001b[1;33m)\u001b[0m\u001b[1;33m\u001b[0m\u001b[1;33m\u001b[0m\u001b[0m\n\u001b[0;32m      4\u001b[0m \u001b[0mdata\u001b[0m \u001b[1;33m=\u001b[0m \u001b[0mdb\u001b[0m\u001b[1;33m.\u001b[0m\u001b[0mcollection\u001b[0m\u001b[1;33m(\u001b[0m\u001b[1;34m'data'\u001b[0m\u001b[1;33m)\u001b[0m\u001b[1;33m\u001b[0m\u001b[1;33m\u001b[0m\u001b[0m\n",
      "\u001b[1;31mModuleNotFoundError\u001b[0m: No module named 'unqlite'"
     ]
    }
   ],
   "source": [
    "from unqlite import UnQLite\n",
    "\n",
    "db = UnQLite('sample.db')\n",
    "data = db.collection('data')"
   ]
  },
  {
   "cell_type": "code",
   "execution_count": null,
   "id": "12663d98",
   "metadata": {},
   "outputs": [],
   "source": []
  }
 ],
 "metadata": {
  "kernelspec": {
   "display_name": "Python 3 (ipykernel)",
   "language": "python",
   "name": "python3"
  },
  "language_info": {
   "codemirror_mode": {
    "name": "ipython",
    "version": 3
   },
   "file_extension": ".py",
   "mimetype": "text/x-python",
   "name": "python",
   "nbconvert_exporter": "python",
   "pygments_lexer": "ipython3",
   "version": "3.9.7"
  }
 },
 "nbformat": 4,
 "nbformat_minor": 5
}
